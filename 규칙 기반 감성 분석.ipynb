{
 "cells": [
  {
   "cell_type": "markdown",
   "id": "6988b0b3",
   "metadata": {},
   "source": [
    "감성 분석이란: 자연어에 담긴 어조가 긍정적인지, 부정적인지, 혹은 중립적인지 확인하는 작업을 감성 분석(Sentiment Analysis)\n",
    "- 제품 개발, 서비스 개선, 시장 조사 등 다양한 용도로 활용\n",
    "\n",
    "1. 규칙 기반 감성 분석: 감성 어휘 사전을 기준으로 특정 단어가 긍정적인지, 부정적인지, 중립적인지를 분류하는 방법\n",
    "\n",
    "하지만 감성 어휘 사전에 없는 단어들로 이루어진 코퍼스는 분석이 제한된다는 단점\n",
    "\n",
    "2. 머신러닝 기반 감성 분석: 다수의 코퍼스들을 통해 긍정 단어와 부정 단어를 구분하는 모델을 학습시켜 그 모델을 기반으로 감성 지수를 확인하는 방법\n",
    "\n",
    "사람이 임의로 만들어 둔 기준 * 없이* 모델이 찾은 기준을 가지고 감성을 구분하는 게 머신러닝 기반 감성 분석입니다.\n",
    "감성 어휘 사전에 없는 단어들로 이루어졌거나 오타가 많은 코퍼스를 분석할 때 효과적\n",
    "하지만 모델링을 위한 대량의 훈련 데이터가 필요하고, 분석 결과가 규칙 기반 감성 분석보다 안정적이지 않다는 단점도 있습니다.|"
   ]
  },
  {
   "cell_type": "code",
   "execution_count": null,
   "id": "e4589cff",
   "metadata": {},
   "outputs": [],
   "source": []
  }
 ],
 "metadata": {
  "kernelspec": {
   "display_name": "Python 3 (ipykernel)",
   "language": "python",
   "name": "python3"
  },
  "language_info": {
   "codemirror_mode": {
    "name": "ipython",
    "version": 3
   },
   "file_extension": ".py",
   "mimetype": "text/x-python",
   "name": "python",
   "nbconvert_exporter": "python",
   "pygments_lexer": "ipython3",
   "version": "3.9.18"
  },
  "toc": {
   "base_numbering": 1,
   "nav_menu": {},
   "number_sections": true,
   "sideBar": true,
   "skip_h1_title": false,
   "title_cell": "Table of Contents",
   "title_sidebar": "Contents",
   "toc_cell": false,
   "toc_position": {},
   "toc_section_display": true,
   "toc_window_display": false
  }
 },
 "nbformat": 4,
 "nbformat_minor": 5
}
