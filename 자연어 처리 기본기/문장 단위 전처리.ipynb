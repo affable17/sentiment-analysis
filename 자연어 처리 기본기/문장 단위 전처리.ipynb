{
 "cells": [
  {
   "cell_type": "markdown",
   "id": "222c2369",
   "metadata": {},
   "source": [
    "# 문장 토큰화 Sentence Tokenization"
   ]
  },
  {
   "cell_type": "code",
   "execution_count": 1,
   "id": "9d71de0a",
   "metadata": {},
   "outputs": [],
   "source": [
    "from nltk.tokenize import sent_tokenize"
   ]
  },
  {
   "cell_type": "code",
   "execution_count": 3,
   "id": "64905192",
   "metadata": {},
   "outputs": [],
   "source": [
    "import nltk"
   ]
  },
  {
   "cell_type": "code",
   "execution_count": 4,
   "id": "122e4ab2",
   "metadata": {},
   "outputs": [
    {
     "name": "stderr",
     "output_type": "stream",
     "text": [
      "[nltk_data] Downloading package punkt to\n",
      "[nltk_data]     C:\\Users\\semin\\AppData\\Roaming\\nltk_data...\n",
      "[nltk_data]   Package punkt is already up-to-date!\n"
     ]
    },
    {
     "data": {
      "text/plain": [
       "True"
      ]
     },
     "execution_count": 4,
     "metadata": {},
     "output_type": "execute_result"
    }
   ],
   "source": [
    "nltk.download('punkt')"
   ]
  },
  {
   "cell_type": "code",
   "execution_count": 5,
   "id": "b864a853",
   "metadata": {},
   "outputs": [],
   "source": [
    "text = \"My email address is 'abcde@codeit.com'. Send it to Mr.Kim.\""
   ]
  },
  {
   "cell_type": "code",
   "execution_count": 7,
   "id": "4187c8b4",
   "metadata": {},
   "outputs": [
    {
     "data": {
      "text/plain": [
       "[\"My email address is 'abcde@codeit.com'.\", 'Send it to Mr.Kim.']"
      ]
     },
     "execution_count": 7,
     "metadata": {},
     "output_type": "execute_result"
    }
   ],
   "source": [
    "tokenized_sents = sent_tokenize(text)\n",
    "tokenized_sents"
   ]
  },
  {
   "cell_type": "code",
   "execution_count": 8,
   "id": "d2ec9a2c",
   "metadata": {},
   "outputs": [],
   "source": [
    "text = \"Can you forward my email to Mr.Kim? Thank you!\""
   ]
  },
  {
   "cell_type": "code",
   "execution_count": 9,
   "id": "7b40bd96",
   "metadata": {},
   "outputs": [
    {
     "data": {
      "text/plain": [
       "['Can you forward my email to Mr.Kim?', 'Thank you!']"
      ]
     },
     "execution_count": 9,
     "metadata": {},
     "output_type": "execute_result"
    }
   ],
   "source": [
    "tokenized_sents = sent_tokenize(text)\n",
    "tokenized_sents"
   ]
  },
  {
   "cell_type": "markdown",
   "id": "f7587b41",
   "metadata": {},
   "source": [
    "# 품사 태깅 Part of Speech Tagging (POS)\n",
    "문장에 사용된 단어의 의미를 제대로 파악하려면 해당 단어가 어떤 품사로 사용되었는지 함께 알아야 합니다.  \n",
    "품사 태깅(POS; Part of Speech Tagging) : 각 단어가 어떤 품사로 쓰였는지 표시하는 작업"
   ]
  },
  {
   "cell_type": "code",
   "execution_count": 10,
   "id": "198d5996",
   "metadata": {},
   "outputs": [],
   "source": [
    "from nltk.tag import pos_tag"
   ]
  },
  {
   "cell_type": "code",
   "execution_count": 11,
   "id": "ab271e2c",
   "metadata": {},
   "outputs": [],
   "source": [
    "text = \"Watching Time Chasers, it obvious that it was made by a bunch of friends. Maybe they were sitting around one day in film school and said, \\\"Hey, let\\'s pool our money together and make a really bad movie!\\\" Or something like that.\"\n",
    "pos_tagged_words = []"
   ]
  },
  {
   "cell_type": "code",
   "execution_count": 13,
   "id": "1d83dd76",
   "metadata": {},
   "outputs": [
    {
     "data": {
      "text/plain": [
       "['Watching Time Chasers, it obvious that it was made by a bunch of friends.',\n",
       " 'Maybe they were sitting around one day in film school and said, \"Hey, let\\'s pool our money together and make a really bad movie!\"',\n",
       " 'Or something like that.']"
      ]
     },
     "execution_count": 13,
     "metadata": {},
     "output_type": "execute_result"
    }
   ],
   "source": [
    "#문장 토큰화\n",
    "tokenized_sents = sent_tokenize(text)\n",
    "tokenized_sents"
   ]
  },
  {
   "cell_type": "code",
   "execution_count": 15,
   "id": "e408f4f7",
   "metadata": {},
   "outputs": [],
   "source": [
    "from nltk.tokenize import word_tokenize"
   ]
  },
  {
   "cell_type": "code",
   "execution_count": 19,
   "id": "e41b4069",
   "metadata": {},
   "outputs": [
    {
     "name": "stderr",
     "output_type": "stream",
     "text": [
      "[nltk_data] Downloading package averaged_perceptron_tagger to\n",
      "[nltk_data]     C:\\Users\\semin\\AppData\\Roaming\\nltk_data...\n",
      "[nltk_data]   Unzipping taggers\\averaged_perceptron_tagger.zip.\n"
     ]
    },
    {
     "data": {
      "text/plain": [
       "True"
      ]
     },
     "execution_count": 19,
     "metadata": {},
     "output_type": "execute_result"
    }
   ],
   "source": [
    "import nltk\n",
    "nltk.download('averaged_perceptron_tagger')"
   ]
  },
  {
   "cell_type": "code",
   "execution_count": 23,
   "id": "fea2f2b9",
   "metadata": {},
   "outputs": [],
   "source": [
    "for sentence in tokenized_sents:\n",
    "    #단어 토큰화\n",
    "    tokenized_words = word_tokenize(sentence)\n",
    "    \n",
    "    #품사 태깅\n",
    "    pos_tagged = pos_tag(tokenized_words)\n",
    "    pos_tagged_words.extend(pos_tagged)"
   ]
  },
  {
   "cell_type": "code",
   "execution_count": 24,
   "id": "2ab12252",
   "metadata": {
    "collapsed": true
   },
   "outputs": [
    {
     "data": {
      "text/plain": [
       "[('Watching', 'VBG'),\n",
       " ('Time', 'NNP'),\n",
       " ('Chasers', 'NNPS'),\n",
       " (',', ','),\n",
       " ('it', 'PRP'),\n",
       " ('obvious', 'VBZ'),\n",
       " ('that', 'IN'),\n",
       " ('it', 'PRP'),\n",
       " ('was', 'VBD'),\n",
       " ('made', 'VBN'),\n",
       " ('by', 'IN'),\n",
       " ('a', 'DT'),\n",
       " ('bunch', 'NN'),\n",
       " ('of', 'IN'),\n",
       " ('friends', 'NNS'),\n",
       " ('.', '.'),\n",
       " ('Maybe', 'RB'),\n",
       " ('they', 'PRP'),\n",
       " ('were', 'VBD'),\n",
       " ('sitting', 'VBG'),\n",
       " ('around', 'IN'),\n",
       " ('one', 'CD'),\n",
       " ('day', 'NN'),\n",
       " ('in', 'IN'),\n",
       " ('film', 'NN'),\n",
       " ('school', 'NN'),\n",
       " ('and', 'CC'),\n",
       " ('said', 'VBD'),\n",
       " (',', ','),\n",
       " ('``', '``'),\n",
       " ('Hey', 'NNP'),\n",
       " (',', ','),\n",
       " ('let', 'VB'),\n",
       " (\"'s\", 'POS'),\n",
       " ('pool', 'VB'),\n",
       " ('our', 'PRP$'),\n",
       " ('money', 'NN'),\n",
       " ('together', 'RB'),\n",
       " ('and', 'CC'),\n",
       " ('make', 'VB'),\n",
       " ('a', 'DT'),\n",
       " ('really', 'RB'),\n",
       " ('bad', 'JJ'),\n",
       " ('movie', 'NN'),\n",
       " ('!', '.'),\n",
       " (\"''\", \"''\"),\n",
       " ('Or', 'CC'),\n",
       " ('something', 'NN'),\n",
       " ('like', 'IN'),\n",
       " ('that', 'DT'),\n",
       " ('.', '.')]"
      ]
     },
     "execution_count": 24,
     "metadata": {},
     "output_type": "execute_result"
    }
   ],
   "source": [
    "pos_tagged_words"
   ]
  },
  {
   "cell_type": "markdown",
   "id": "9f4b1807",
   "metadata": {},
   "source": [
    "## Penn Treebank POS Tags\n",
    "NLTK의 pos_tag() 함수는 Penn Treebank POS Tags를 기준으로 품사를 태깅합니다. "
   ]
  },
  {
   "cell_type": "markdown",
   "id": "b38c4fe7",
   "metadata": {},
   "source": [
    "# 표제어 추출(Lemmatization)\n",
    "* 표제어 Lemma : 단어의 사전적 어원  \n",
    "서로 다른 단어도 표제어는 같은 경우 존재. 표제어를 기준으로 통합하면 단어가 정규화됩니다.   \n",
    "* 예를 들어 am, are, is는 서로 다른 단어이지만 표제어는 동일하게 be입니다"
   ]
  },
  {
   "cell_type": "code",
   "execution_count": 25,
   "id": "f2b150cf",
   "metadata": {},
   "outputs": [],
   "source": [
    "text = 'You are the happiest person.'"
   ]
  },
  {
   "cell_type": "code",
   "execution_count": 29,
   "id": "b5ad964b",
   "metadata": {},
   "outputs": [
    {
     "data": {
      "text/plain": [
       "['You', 'are', 'the', 'happiest', 'person', '.']"
      ]
     },
     "execution_count": 29,
     "metadata": {},
     "output_type": "execute_result"
    }
   ],
   "source": [
    "tokenized_words = word_tokenize(text)\n",
    "tokenized_words"
   ]
  },
  {
   "cell_type": "code",
   "execution_count": 30,
   "id": "f9e211bb",
   "metadata": {},
   "outputs": [
    {
     "data": {
      "text/plain": [
       "[('You', 'PRP'),\n",
       " ('are', 'VBP'),\n",
       " ('the', 'DT'),\n",
       " ('happiest', 'JJS'),\n",
       " ('person', 'NN'),\n",
       " ('.', '.')]"
      ]
     },
     "execution_count": 30,
     "metadata": {},
     "output_type": "execute_result"
    }
   ],
   "source": [
    "tagged_words = pos_tag(tokenized_words)\n",
    "tagged_words"
   ]
  },
  {
   "cell_type": "markdown",
   "id": "a69ea24e",
   "metadata": {},
   "source": [
    "표제어 추출에 사용되는 함수는 WordNet POS Tag를 사용  \n",
    "* WordNet POS Tag : WordNet이란 거대한 영어 어휘 데이터베이스에 적용되어 있는 품사 태그  \n",
    "* pos_tag()로 태깅한 품사를 WordNet POS Tag에 맞게 변환\n",
    "* words_lemmatizer()는 (단어, 품사) 형태로 품사 태깅된 리스트를 파라미터로 받고, 표제어 추출이 된 결과를 반환합니다."
   ]
  },
  {
   "cell_type": "code",
   "execution_count": 31,
   "id": "59637f60",
   "metadata": {},
   "outputs": [],
   "source": [
    "from nltk.corpus import wordnet as wn"
   ]
  },
  {
   "cell_type": "code",
   "execution_count": 32,
   "id": "976701c3",
   "metadata": {},
   "outputs": [],
   "source": [
    "def penn_to_wn(tag):\n",
    "    if tag.startswith('J'):\n",
    "        return wn.ADJ\n",
    "    elif tag.startswith('N'):\n",
    "        return wn.NOUN\n",
    "    elif tag.startswith('R'):\n",
    "        return wn.ADV\n",
    "    elif tag.startswith('V'):\n",
    "        return wn.VERB\n",
    "    else:\n",
    "        return"
   ]
  },
  {
   "cell_type": "code",
   "execution_count": 33,
   "id": "18668748",
   "metadata": {},
   "outputs": [
    {
     "name": "stderr",
     "output_type": "stream",
     "text": [
      "[nltk_data] Downloading package wordnet to\n",
      "[nltk_data]     C:\\Users\\semin\\AppData\\Roaming\\nltk_data...\n",
      "[nltk_data] Downloading package omw-1.4 to\n",
      "[nltk_data]     C:\\Users\\semin\\AppData\\Roaming\\nltk_data...\n"
     ]
    },
    {
     "data": {
      "text/plain": [
       "True"
      ]
     },
     "execution_count": 33,
     "metadata": {},
     "output_type": "execute_result"
    }
   ],
   "source": [
    "from nltk.stem import WordNetLemmatizer\n",
    "nltk.download('wordnet')\n",
    "nltk.download('omw-1.4')"
   ]
  },
  {
   "cell_type": "code",
   "execution_count": 34,
   "id": "f5fef7b8",
   "metadata": {},
   "outputs": [],
   "source": [
    "lemmatizer = WordNetLemmatizer()\n",
    "lemmatized_words = []"
   ]
  },
  {
   "cell_type": "code",
   "execution_count": 36,
   "id": "8a064a9d",
   "metadata": {},
   "outputs": [],
   "source": [
    "for word,tag in tagged_words:\n",
    "    wn_tag = penn_to_wn(tag) #wordnet pos tag변환\n",
    "    \n",
    "    if wn_tag in (wn.NOUN, wn.ADJ, wn.ADV, wn.VERB):\n",
    "        lemmatized_words.append(lemmatizer.lemmatize(word, wn_tag))\n",
    "    else:\n",
    "        lemmatized_words.append(word)"
   ]
  },
  {
   "cell_type": "code",
   "execution_count": 37,
   "id": "3ed24942",
   "metadata": {},
   "outputs": [
    {
     "data": {
      "text/plain": [
       "['You', 'be', 'the', 'happy', 'person', '.']"
      ]
     },
     "execution_count": 37,
     "metadata": {},
     "output_type": "execute_result"
    }
   ],
   "source": [
    "lemmatized_words"
   ]
  },
  {
   "cell_type": "code",
   "execution_count": 38,
   "id": "18b3146e",
   "metadata": {},
   "outputs": [
    {
     "name": "stdout",
     "output_type": "stream",
     "text": [
      "표제어 추출 전 : ['You', 'are', 'the', 'happiest', 'person', '.']\n",
      "표제어 추출 후 : ['You', 'be', 'the', 'happy', 'person', '.']\n"
     ]
    }
   ],
   "source": [
    "# 표제어 추출 확인\n",
    "print('표제어 추출 전 :', tokenized_words)\n",
    "print('표제어 추출 후 :', lemmatized_words)"
   ]
  }
 ],
 "metadata": {
  "kernelspec": {
   "display_name": "Python 3 (ipykernel)",
   "language": "python",
   "name": "python3"
  },
  "language_info": {
   "codemirror_mode": {
    "name": "ipython",
    "version": 3
   },
   "file_extension": ".py",
   "mimetype": "text/x-python",
   "name": "python",
   "nbconvert_exporter": "python",
   "pygments_lexer": "ipython3",
   "version": "3.9.18"
  },
  "toc": {
   "base_numbering": 1,
   "nav_menu": {},
   "number_sections": true,
   "sideBar": true,
   "skip_h1_title": false,
   "title_cell": "Table of Contents",
   "title_sidebar": "Contents",
   "toc_cell": false,
   "toc_position": {},
   "toc_section_display": true,
   "toc_window_display": false
  }
 },
 "nbformat": 4,
 "nbformat_minor": 5
}
