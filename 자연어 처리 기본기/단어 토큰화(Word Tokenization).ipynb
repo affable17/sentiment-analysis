{
 "cells": [
  {
   "cell_type": "markdown",
   "id": "3acad450",
   "metadata": {},
   "source": [
    "코퍼스(Corpus) : 분석에 활요하기 위한 자연어 데이터, 말뭉치  \n",
    "토큰(Token) : 의미있는 작은 단위  \n",
    "토큰화(Tokenization) : 하나의 코퍼스를 여러 개의 토큰으로 나누는 과정  \n",
    "    * 단어 토큰화  \n",
    "    * 문장 토큰화 "
   ]
  },
  {
   "cell_type": "code",
   "execution_count": 4,
   "id": "3d93af79",
   "metadata": {},
   "outputs": [],
   "source": [
    "from nltk.tokenize import word_tokenize"
   ]
  },
  {
   "cell_type": "code",
   "execution_count": 5,
   "id": "2e25e7da",
   "metadata": {},
   "outputs": [],
   "source": [
    "import nltk"
   ]
  },
  {
   "cell_type": "code",
   "execution_count": 6,
   "id": "9d5bc8c6",
   "metadata": {},
   "outputs": [
    {
     "name": "stderr",
     "output_type": "stream",
     "text": [
      "[nltk_data] Downloading package punkt to\n",
      "[nltk_data]     C:\\Users\\semin\\AppData\\Roaming\\nltk_data...\n",
      "[nltk_data]   Unzipping tokenizers\\punkt.zip.\n"
     ]
    },
    {
     "data": {
      "text/plain": [
       "True"
      ]
     },
     "execution_count": 6,
     "metadata": {},
     "output_type": "execute_result"
    }
   ],
   "source": [
    "nltk.download('punkt') #punkt는 마침표나 약어(Mr. , Dr.)와 같은 특별한 언어적 특성을 고려하여 토큰화를 할 수 있게 해주는 모듈"
   ]
  },
  {
   "cell_type": "code",
   "execution_count": 7,
   "id": "870e0c7d",
   "metadata": {},
   "outputs": [],
   "source": [
    "text = \"Although it's not a happily-ever-after ending, it is very realistic.\""
   ]
  },
  {
   "cell_type": "code",
   "execution_count": 8,
   "id": "f8390147",
   "metadata": {},
   "outputs": [],
   "source": [
    "#단어 토큰화 \n",
    "tokenized_words = word_tokenize(text)"
   ]
  },
  {
   "cell_type": "code",
   "execution_count": 9,
   "id": "008cb574",
   "metadata": {},
   "outputs": [
    {
     "name": "stdout",
     "output_type": "stream",
     "text": [
      "['Although', 'it', \"'s\", 'not', 'a', 'happily-ever-after', 'ending', ',', 'it', 'is', 'very', 'realistic', '.']\n"
     ]
    }
   ],
   "source": [
    "print(tokenized_words)"
   ]
  },
  {
   "cell_type": "markdown",
   "id": "0855c7e8",
   "metadata": {},
   "source": [
    "# 정제(Cleaning)"
   ]
  },
  {
   "cell_type": "code",
   "execution_count": 11,
   "id": "12f768a3",
   "metadata": {},
   "outputs": [],
   "source": [
    "from text import TEXT"
   ]
  },
  {
   "cell_type": "code",
   "execution_count": 12,
   "id": "3aa18c06",
   "metadata": {},
   "outputs": [],
   "source": [
    "corpus = TEXT"
   ]
  },
  {
   "cell_type": "code",
   "execution_count": 14,
   "id": "6f74ac73",
   "metadata": {
    "collapsed": true
   },
   "outputs": [
    {
     "name": "stdout",
     "output_type": "stream",
     "text": [
      "After reading the comments for this movie, I am not sure whether I should be angry, sad or sickened. Seeing comments typical of people who a)know absolutely nothing about the military or b)who base everything they think they know on movies like this or on CNN reports about Abu-Gharib makes me wonder about the state of intellectual stimulation in the world. At the time I type this the number of people in the US military: 1.4 million on Active Duty with another almost 900,000 in the Guard and Reserves for a total of roughly 2.3 million. The number of people indicted for abuses at at Abu-Gharib: Currently less than 20 That makes the total of people indicted .00083% of the total military. Even if you indict every single military member that ever stepped in to Abu-Gharib, you would not come close to making that a whole number.  The flaws in this movie would take YEARS to cover. I understand that it's supposed to be sarcastic, but in reality, the writer and director are trying to make commentary about the state of the military without an enemy to fight. In reality, the US military has been at its busiest when there are not conflicts going on. The military is the first called for disaster relief and humanitarian aid missions. When the tsunami hit Indonesia, devestating the region, the US military was the first on the scene. When the chaos of the situation overwhelmed the local governments, it was military leadership who looked at their people, the same people this movie mocks, and said make it happen. Within hours, food aid was reaching isolated villages. Within days, airfields were built, cargo aircraft started landing and a food distribution system was up and running. Hours and days, not weeks and months. Yes there are unscrupulous people in the US military. But then, there are in every walk of life, every occupation. But to see people on this website decide that 2.3 million men and women are all criminal, with nothing on their minds but thoughts of destruction or mayhem is an absolute disservice to the things that they do every day. One person on this website even went so far as to say that military members are in it for personal gain. Wow! Entry level personnel make just under $8.00 an hour assuming a 40 hour work week. Of course, many work much more than 40 hours a week and those in harm's way typically put in 16-18 hour days for months on end. That makes the pay well under minimum wage. So much for personal gain. I beg you, please make yourself familiar with the world around you. Go to a nearby base, get a visitor pass and meet some of the men and women you are so quick to disparage. You would be surprised. The military no longer accepts people in lieu of prison time. They require a minimum of a GED and prefer a high school diploma. The middle ranks are expected to get a minimum of undergraduate degrees and the upper ranks are encouraged to get advanced degrees.\n",
      "\n"
     ]
    }
   ],
   "source": [
    "print(corpus)"
   ]
  },
  {
   "cell_type": "code",
   "execution_count": 15,
   "id": "634058db",
   "metadata": {},
   "outputs": [],
   "source": [
    "from collections import Counter #Counter모듈 import"
   ]
  },
  {
   "cell_type": "code",
   "execution_count": 16,
   "id": "c439a6a7",
   "metadata": {},
   "outputs": [],
   "source": [
    "#전체 단어 토큰 리스트\n",
    "tokenized_words = word_tokenize(corpus)"
   ]
  },
  {
   "cell_type": "code",
   "execution_count": 18,
   "id": "7179d6b0",
   "metadata": {
    "collapsed": true
   },
   "outputs": [
    {
     "data": {
      "text/plain": [
       "Counter({'the': 30,\n",
       "         '.': 28,\n",
       "         ',': 21,\n",
       "         'of': 15,\n",
       "         'and': 14,\n",
       "         'to': 13,\n",
       "         'a': 12,\n",
       "         'military': 12,\n",
       "         'in': 12,\n",
       "         'people': 9,\n",
       "         'on': 9,\n",
       "         'are': 9,\n",
       "         'for': 7,\n",
       "         'this': 7,\n",
       "         'that': 6,\n",
       "         'I': 5,\n",
       "         'The': 5,\n",
       "         'you': 5,\n",
       "         'not': 4,\n",
       "         'or': 4,\n",
       "         'about': 4,\n",
       "         'US': 4,\n",
       "         'at': 4,\n",
       "         'every': 4,\n",
       "         'it': 4,\n",
       "         'make': 4,\n",
       "         'was': 4,\n",
       "         'movie': 3,\n",
       "         'be': 3,\n",
       "         'who': 3,\n",
       "         'they': 3,\n",
       "         'Abu-Gharib': 3,\n",
       "         'makes': 3,\n",
       "         'number': 3,\n",
       "         'million': 3,\n",
       "         'with': 3,\n",
       "         'total': 3,\n",
       "         'would': 3,\n",
       "         'an': 3,\n",
       "         'there': 3,\n",
       "         'days': 3,\n",
       "         'hour': 3,\n",
       "         'minimum': 3,\n",
       "         'get': 3,\n",
       "         'comments': 2,\n",
       "         ')': 2,\n",
       "         'know': 2,\n",
       "         'nothing': 2,\n",
       "         'base': 2,\n",
       "         'state': 2,\n",
       "         'world': 2,\n",
       "         'time': 2,\n",
       "         ':': 2,\n",
       "         '2.3': 2,\n",
       "         'indicted': 2,\n",
       "         'than': 2,\n",
       "         'That': 2,\n",
       "         \"'s\": 2,\n",
       "         'but': 2,\n",
       "         'reality': 2,\n",
       "         'is': 2,\n",
       "         'first': 2,\n",
       "         'aid': 2,\n",
       "         'When': 2,\n",
       "         'their': 2,\n",
       "         'Within': 2,\n",
       "         'hours': 2,\n",
       "         'food': 2,\n",
       "         'months': 2,\n",
       "         'But': 2,\n",
       "         'website': 2,\n",
       "         'men': 2,\n",
       "         'women': 2,\n",
       "         'so': 2,\n",
       "         'personal': 2,\n",
       "         'gain': 2,\n",
       "         'under': 2,\n",
       "         '40': 2,\n",
       "         'work': 2,\n",
       "         'week': 2,\n",
       "         'much': 2,\n",
       "         'ranks': 2,\n",
       "         'degrees': 2,\n",
       "         'After': 1,\n",
       "         'reading': 1,\n",
       "         'am': 1,\n",
       "         'sure': 1,\n",
       "         'whether': 1,\n",
       "         'should': 1,\n",
       "         'angry': 1,\n",
       "         'sad': 1,\n",
       "         'sickened': 1,\n",
       "         'Seeing': 1,\n",
       "         'typical': 1,\n",
       "         'absolutely': 1,\n",
       "         'b': 1,\n",
       "         'everything': 1,\n",
       "         'think': 1,\n",
       "         'movies': 1,\n",
       "         'like': 1,\n",
       "         'CNN': 1,\n",
       "         'reports': 1,\n",
       "         'me': 1,\n",
       "         'wonder': 1,\n",
       "         'intellectual': 1,\n",
       "         'stimulation': 1,\n",
       "         'At': 1,\n",
       "         'type': 1,\n",
       "         '1.4': 1,\n",
       "         'Active': 1,\n",
       "         'Duty': 1,\n",
       "         'another': 1,\n",
       "         'almost': 1,\n",
       "         '900,000': 1,\n",
       "         'Guard': 1,\n",
       "         'Reserves': 1,\n",
       "         'roughly': 1,\n",
       "         'abuses': 1,\n",
       "         'Currently': 1,\n",
       "         'less': 1,\n",
       "         '20': 1,\n",
       "         '.00083': 1,\n",
       "         '%': 1,\n",
       "         'Even': 1,\n",
       "         'if': 1,\n",
       "         'indict': 1,\n",
       "         'single': 1,\n",
       "         'member': 1,\n",
       "         'ever': 1,\n",
       "         'stepped': 1,\n",
       "         'come': 1,\n",
       "         'close': 1,\n",
       "         'making': 1,\n",
       "         'whole': 1,\n",
       "         'flaws': 1,\n",
       "         'take': 1,\n",
       "         'YEARS': 1,\n",
       "         'cover': 1,\n",
       "         'understand': 1,\n",
       "         'supposed': 1,\n",
       "         'sarcastic': 1,\n",
       "         'writer': 1,\n",
       "         'director': 1,\n",
       "         'trying': 1,\n",
       "         'commentary': 1,\n",
       "         'without': 1,\n",
       "         'enemy': 1,\n",
       "         'fight': 1,\n",
       "         'In': 1,\n",
       "         'has': 1,\n",
       "         'been': 1,\n",
       "         'its': 1,\n",
       "         'busiest': 1,\n",
       "         'when': 1,\n",
       "         'conflicts': 1,\n",
       "         'going': 1,\n",
       "         'called': 1,\n",
       "         'disaster': 1,\n",
       "         'relief': 1,\n",
       "         'humanitarian': 1,\n",
       "         'missions': 1,\n",
       "         'tsunami': 1,\n",
       "         'hit': 1,\n",
       "         'Indonesia': 1,\n",
       "         'devestating': 1,\n",
       "         'region': 1,\n",
       "         'scene': 1,\n",
       "         'chaos': 1,\n",
       "         'situation': 1,\n",
       "         'overwhelmed': 1,\n",
       "         'local': 1,\n",
       "         'governments': 1,\n",
       "         'leadership': 1,\n",
       "         'looked': 1,\n",
       "         'same': 1,\n",
       "         'mocks': 1,\n",
       "         'said': 1,\n",
       "         'happen': 1,\n",
       "         'reaching': 1,\n",
       "         'isolated': 1,\n",
       "         'villages': 1,\n",
       "         'airfields': 1,\n",
       "         'were': 1,\n",
       "         'built': 1,\n",
       "         'cargo': 1,\n",
       "         'aircraft': 1,\n",
       "         'started': 1,\n",
       "         'landing': 1,\n",
       "         'distribution': 1,\n",
       "         'system': 1,\n",
       "         'up': 1,\n",
       "         'running': 1,\n",
       "         'Hours': 1,\n",
       "         'weeks': 1,\n",
       "         'Yes': 1,\n",
       "         'unscrupulous': 1,\n",
       "         'then': 1,\n",
       "         'walk': 1,\n",
       "         'life': 1,\n",
       "         'occupation': 1,\n",
       "         'see': 1,\n",
       "         'decide': 1,\n",
       "         'all': 1,\n",
       "         'criminal': 1,\n",
       "         'minds': 1,\n",
       "         'thoughts': 1,\n",
       "         'destruction': 1,\n",
       "         'mayhem': 1,\n",
       "         'absolute': 1,\n",
       "         'disservice': 1,\n",
       "         'things': 1,\n",
       "         'do': 1,\n",
       "         'day': 1,\n",
       "         'One': 1,\n",
       "         'person': 1,\n",
       "         'even': 1,\n",
       "         'went': 1,\n",
       "         'far': 1,\n",
       "         'as': 1,\n",
       "         'say': 1,\n",
       "         'members': 1,\n",
       "         'Wow': 1,\n",
       "         '!': 1,\n",
       "         'Entry': 1,\n",
       "         'level': 1,\n",
       "         'personnel': 1,\n",
       "         'just': 1,\n",
       "         '$': 1,\n",
       "         '8.00': 1,\n",
       "         'assuming': 1,\n",
       "         'Of': 1,\n",
       "         'course': 1,\n",
       "         'many': 1,\n",
       "         'more': 1,\n",
       "         'those': 1,\n",
       "         'harm': 1,\n",
       "         'way': 1,\n",
       "         'typically': 1,\n",
       "         'put': 1,\n",
       "         '16-18': 1,\n",
       "         'end': 1,\n",
       "         'pay': 1,\n",
       "         'well': 1,\n",
       "         'wage': 1,\n",
       "         'So': 1,\n",
       "         'beg': 1,\n",
       "         'please': 1,\n",
       "         'yourself': 1,\n",
       "         'familiar': 1,\n",
       "         'around': 1,\n",
       "         'Go': 1,\n",
       "         'nearby': 1,\n",
       "         'visitor': 1,\n",
       "         'pass': 1,\n",
       "         'meet': 1,\n",
       "         'some': 1,\n",
       "         'quick': 1,\n",
       "         'disparage': 1,\n",
       "         'You': 1,\n",
       "         'surprised': 1,\n",
       "         'no': 1,\n",
       "         'longer': 1,\n",
       "         'accepts': 1,\n",
       "         'lieu': 1,\n",
       "         'prison': 1,\n",
       "         'They': 1,\n",
       "         'require': 1,\n",
       "         'GED': 1,\n",
       "         'prefer': 1,\n",
       "         'high': 1,\n",
       "         'school': 1,\n",
       "         'diploma': 1,\n",
       "         'middle': 1,\n",
       "         'expected': 1,\n",
       "         'undergraduate': 1,\n",
       "         'upper': 1,\n",
       "         'encouraged': 1,\n",
       "         'advanced': 1})"
      ]
     },
     "execution_count": 18,
     "metadata": {},
     "output_type": "execute_result"
    }
   ],
   "source": [
    "#파이썬의 Counter 모듈:  단어의 빈도수 카운트하여 단어 집합 생성\n",
    "vocab = Counter(tokenized_words)\n",
    "vocab"
   ]
  },
  {
   "cell_type": "code",
   "execution_count": 20,
   "id": "59a394be",
   "metadata": {},
   "outputs": [],
   "source": [
    "#빈도수가 2 이하인 단어 리스트 추출\n",
    "uncommon_words = [key for key, value in vocab.items() if value <=2]"
   ]
  },
  {
   "cell_type": "code",
   "execution_count": 23,
   "id": "e30ed8c8",
   "metadata": {},
   "outputs": [
    {
     "name": "stdout",
     "output_type": "stream",
     "text": [
      "빈도수가 2 이하인 단어 수: 234\n"
     ]
    }
   ],
   "source": [
    "print('빈도수가 2 이하인 단어 수:', len(uncommon_words))"
   ]
  },
  {
   "cell_type": "code",
   "execution_count": 24,
   "id": "64a43e40",
   "metadata": {},
   "outputs": [
    {
     "name": "stdout",
     "output_type": "stream",
     "text": [
      "빈도수 3 이상인 토큰 수: 306\n"
     ]
    }
   ],
   "source": [
    "#빈도수가 2 이하인 단어들만 제거한 결과\n",
    "cleaned_by_freq = [word for word in tokenized_words if word not in uncommon_words]\n",
    "\n",
    "print('빈도수 3 이상인 토큰 수:', len(cleaned_by_freq))"
   ]
  },
  {
   "cell_type": "markdown",
   "id": "3b866e57",
   "metadata": {},
   "source": [
    "같은 코퍼스를 여러번 전처리해 보고, 가장 좋은 결과가 나올 때의 정제 기준을 활용하는게 일반적입니다.  \n",
    "여러번 전처리해서 결과를 비교해 봐야 한다는 점 꼭 기억해 주세요."
   ]
  },
  {
   "cell_type": "markdown",
   "id": "68fae209",
   "metadata": {},
   "source": [
    "# 길이가 짧은 단어 제거 \n",
    "알파벳 하나 또는 두개로 구성된 단어는 코퍼스의 의미를 나타내는데 중요하지 않을 가능성이 높습니다.   \n",
    "그래서 이런 단어들은 제거하는 게 좋습니다"
   ]
  },
  {
   "cell_type": "code",
   "execution_count": 25,
   "id": "55de18e4",
   "metadata": {},
   "outputs": [],
   "source": [
    "#길이가 2 이하인 단어 제거 : I, be\n",
    "cleaned_by_freq_len = []\n",
    "\n",
    "for word in cleaned_by_freq:\n",
    "    if len(word) >2:\n",
    "        cleaned_by_freq_len.append(word)"
   ]
  },
  {
   "cell_type": "code",
   "execution_count": 26,
   "id": "46743d50",
   "metadata": {},
   "outputs": [
    {
     "name": "stdout",
     "output_type": "stream",
     "text": [
      "정제 전: ['the', 'for', 'this', 'movie', ',', 'I', 'not', 'I', 'be', ',']\n",
      "정제 후: ['the', 'for', 'this', 'movie', 'not', 'people', 'who', 'about', 'the', 'military']\n"
     ]
    }
   ],
   "source": [
    "#정제 결과 \n",
    "print('정제 전:', cleaned_by_freq[:10])\n",
    "print('정제 후:', cleaned_by_freq_len[:10])"
   ]
  },
  {
   "cell_type": "markdown",
   "id": "56cdb265",
   "metadata": {},
   "source": [
    "# 정제 함수 만들기"
   ]
  },
  {
   "cell_type": "code",
   "execution_count": null,
   "id": "c0dca823",
   "metadata": {},
   "outputs": [],
   "source": []
  },
  {
   "cell_type": "code",
   "execution_count": null,
   "id": "a0549725",
   "metadata": {},
   "outputs": [],
   "source": []
  },
  {
   "cell_type": "code",
   "execution_count": null,
   "id": "98a98104",
   "metadata": {},
   "outputs": [],
   "source": []
  },
  {
   "cell_type": "code",
   "execution_count": null,
   "id": "5f32a8e6",
   "metadata": {},
   "outputs": [],
   "source": []
  },
  {
   "cell_type": "code",
   "execution_count": null,
   "id": "6bfb344d",
   "metadata": {},
   "outputs": [],
   "source": []
  }
 ],
 "metadata": {
  "kernelspec": {
   "display_name": "Python 3 (ipykernel)",
   "language": "python",
   "name": "python3"
  },
  "language_info": {
   "codemirror_mode": {
    "name": "ipython",
    "version": 3
   },
   "file_extension": ".py",
   "mimetype": "text/x-python",
   "name": "python",
   "nbconvert_exporter": "python",
   "pygments_lexer": "ipython3",
   "version": "3.9.18"
  },
  "toc": {
   "base_numbering": 1,
   "nav_menu": {},
   "number_sections": true,
   "sideBar": true,
   "skip_h1_title": false,
   "title_cell": "Table of Contents",
   "title_sidebar": "Contents",
   "toc_cell": false,
   "toc_position": {},
   "toc_section_display": true,
   "toc_window_display": false
  }
 },
 "nbformat": 4,
 "nbformat_minor": 5
}
